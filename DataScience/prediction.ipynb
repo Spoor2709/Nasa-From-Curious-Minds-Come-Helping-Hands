{
  "nbformat": 4,
  "nbformat_minor": 0,
  "metadata": {
    "colab": {
      "name": "prediction.ipynb",
      "provenance": [],
      "include_colab_link": true
    },
    "kernelspec": {
      "name": "python3",
      "display_name": "Python 3"
    }
  },
  "cells": [
    {
      "cell_type": "markdown",
      "metadata": {
        "id": "view-in-github",
        "colab_type": "text"
      },
      "source": [
        "<a href=\"https://colab.research.google.com/github/Spoor2709/Nasa-From-Curious-Minds-Come-Helping-Hands/blob/DataScience/DataScience/prediction.ipynb\" target=\"_parent\"><img src=\"https://colab.research.google.com/assets/colab-badge.svg\" alt=\"Open In Colab\"/></a>"
      ]
    },
    {
      "cell_type": "code",
      "metadata": {
        "id": "57UqqJSWcOK6",
        "colab_type": "code",
        "colab": {}
      },
      "source": [
        "from sklearn.metrics.pairwise import cosine_similarity\n",
        "import numpy as np\n",
        "import tensorflow.keras\n",
        "import PIL\n",
        "import tensorflow as tf\n",
        "import os\n",
        "\n",
        "from tensorflow.keras import layers\n",
        "from tensorflow.keras.models import Model, Sequential\n",
        "from tensorflow.keras.layers import Dense, Flatten, Dropout\n",
        "from tensorflow.keras.applications.vgg19 import VGG19\n",
        "\n",
        "#import model\n",
        "model = VGG19(include_top=True, weights='imagenet')"
      ],
      "execution_count": 0,
      "outputs": []
    },
    {
      "cell_type": "code",
      "metadata": {
        "id": "MMR9VMhefyyZ",
        "colab_type": "code",
        "colab": {
          "base_uri": "https://localhost:8080/",
          "height": 122
        },
        "outputId": "a4adae79-2cfa-4bb0-be18-7627cf1bc942"
      },
      "source": [
        "from google.colab import drive\n",
        "drive.mount('/gdrive')"
      ],
      "execution_count": 5,
      "outputs": [
        {
          "output_type": "stream",
          "text": [
            "Go to this URL in a browser: https://accounts.google.com/o/oauth2/auth?client_id=947318989803-6bn6qk8qdgf4n4g3pfee6491hc0brc4i.apps.googleusercontent.com&redirect_uri=urn%3Aietf%3Awg%3Aoauth%3A2.0%3Aoob&scope=email%20https%3A%2F%2Fwww.googleapis.com%2Fauth%2Fdocs.test%20https%3A%2F%2Fwww.googleapis.com%2Fauth%2Fdrive%20https%3A%2F%2Fwww.googleapis.com%2Fauth%2Fdrive.photos.readonly%20https%3A%2F%2Fwww.googleapis.com%2Fauth%2Fpeopleapi.readonly&response_type=code\n",
            "\n",
            "Enter your authorization code:\n",
            "··········\n",
            "Mounted at /gdrive\n"
          ],
          "name": "stdout"
        }
      ]
    },
    {
      "cell_type": "code",
      "metadata": {
        "id": "voj9IcJoczx6",
        "colab_type": "code",
        "colab": {}
      },
      "source": [
        "# define images by providing path\n",
        "image1_b = PIL.Image.open('../gdrive/My Drive/NASA/test/before/before_11.JPG')\n",
        "image1_a = PIL.Image.open('../gdrive/My Drive/NASA/test/after/after_11.JPG')\n"
      ],
      "execution_count": 0,
      "outputs": []
    },
    {
      "cell_type": "code",
      "metadata": {
        "id": "yYnswJ58c9p8",
        "colab_type": "code",
        "colab": {}
      },
      "source": [
        "input_shape = model.layers[0].output_shape[0][1:3]\n",
        "\n",
        "# set specific layer to get the vectors\n",
        "layer_name = 'fc2'\n",
        "intermediate_layer_model = Model(inputs=model.input, outputs=model.get_layer(layer_name).output)"
      ],
      "execution_count": 0,
      "outputs": []
    },
    {
      "cell_type": "code",
      "metadata": {
        "id": "gV7dy2PPfJdS",
        "colab_type": "code",
        "colab": {}
      },
      "source": [
        "# get cosine similarity\n",
        "def flood_index(before, after):\n",
        "    #take two vectors from the last layer of neural network compute a transformation of  cosine similarity \n",
        "    # and output an index of damages\n",
        "    \n",
        "    # resizing images\n",
        "    image1_b_resized = image1_b.resize(input_shape, PIL.Image.LANCZOS)\n",
        "    image1_a_resized = image1_a.resize(input_shape, PIL.Image.LANCZOS)\n",
        "    # transform images to numpy arrays\n",
        "    image1_b_array = np.expand_dims(np.array(image1_b_resized), axis=0)\n",
        "    image1_a_array = np.expand_dims(np.array(image1_a_resized), axis=0)\n",
        "    # prediction from model\n",
        "    intermediate_output_a = intermediate_layer_model.predict(image1_a_array)\n",
        "    intermediate_output_b = intermediate_layer_model.predict(image1_b_array)\n",
        "    \n",
        "    #compute similarity\n",
        "    cos_sim=np.sqrt((1-cosine_similarity(intermediate_output_a, intermediate_output_b))/2)*10\n",
        "    return cos_sim[0][0]"
      ],
      "execution_count": 0,
      "outputs": []
    },
    {
      "cell_type": "code",
      "metadata": {
        "id": "LaNGZ96wfeBV",
        "colab_type": "code",
        "colab": {
          "base_uri": "https://localhost:8080/",
          "height": 34
        },
        "outputId": "627fe633-6dc6-4883-900f-8d422c3b04d5"
      },
      "source": [
        "flood_index(image1_b, image1_a)"
      ],
      "execution_count": 9,
      "outputs": [
        {
          "output_type": "execute_result",
          "data": {
            "text/plain": [
              "3.7292957"
            ]
          },
          "metadata": {
            "tags": []
          },
          "execution_count": 9
        }
      ]
    },
    {
      "cell_type": "code",
      "metadata": {
        "id": "vByAR1AVf9MQ",
        "colab_type": "code",
        "colab": {}
      },
      "source": [
        ""
      ],
      "execution_count": 0,
      "outputs": []
    }
  ]
}